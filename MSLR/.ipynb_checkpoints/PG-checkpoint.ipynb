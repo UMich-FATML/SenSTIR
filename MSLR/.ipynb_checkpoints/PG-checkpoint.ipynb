{
 "cells": [
  {
   "cell_type": "code",
   "execution_count": 1,
   "metadata": {},
   "outputs": [],
   "source": [
    "import numpy as np"
   ]
  },
  {
   "cell_type": "code",
   "execution_count": 2,
   "metadata": {},
   "outputs": [],
   "source": [
    "X_train = np.load('data/X_train.npy')\n",
    "rel_train = np.load('data/y_train.npy')\n",
    "group_train = np.load('data/group_train.npy')\n",
    "\n",
    "X_valid = np.load('data/X_valid.npy')\n",
    "rel_valid = np.load('data/y_valid.npy')\n",
    "group_valid = np.load('data/group_valid.npy')"
   ]
  },
  {
   "cell_type": "code",
   "execution_count": 3,
   "metadata": {},
   "outputs": [],
   "source": [
    "cs_size = 20\n",
    "num_queries = int(X_train.shape[0] / cs_size)\n",
    "rels = [rel_train[i*cs_size:(i+1)*cs_size] for i in range(num_queries)]\n",
    "feats = [X_train[i*cs_size:(i+1)*cs_size,:] for i in range(num_queries)]\n",
    "group_train = [group_train[i*cs_size:(i+1)*cs_size] for i in range(num_queries)]"
   ]
  },
  {
   "cell_type": "code",
   "execution_count": null,
   "metadata": {},
   "outputs": [],
   "source": [
    "cs_size = 20\n",
    "num_queries = int(X_valid.shape[0] / cs_size)\n",
    "rels = [rel_train[i*cs_size:(i+1)*cs_size] for i in range(num_queries)]\n",
    "feats = [X_train[i*cs_size:(i+1)*cs_size,:] for i in range(num_queries)]\n",
    "group_train = [group_train[i*cs_size:(i+1)*cs_size] for i in range(num_queries)]"
   ]
  }
 ],
 "metadata": {
  "kernelspec": {
   "display_name": "Python 3",
   "language": "python",
   "name": "python3"
  },
  "language_info": {
   "codemirror_mode": {
    "name": "ipython",
    "version": 3
   },
   "file_extension": ".py",
   "mimetype": "text/x-python",
   "name": "python",
   "nbconvert_exporter": "python",
   "pygments_lexer": "ipython3",
   "version": "3.7.6"
  }
 },
 "nbformat": 4,
 "nbformat_minor": 2
}
